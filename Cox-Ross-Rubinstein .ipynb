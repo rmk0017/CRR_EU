{
 "cells": [
  {
   "cell_type": "markdown",
   "id": "f9dbc61b",
   "metadata": {},
   "source": [
    "# Relevant Packages"
   ]
  },
  {
   "cell_type": "code",
   "execution_count": 219,
   "id": "4c87178e",
   "metadata": {},
   "outputs": [],
   "source": [
    "import numpy as np\n",
    "import math"
   ]
  },
  {
   "cell_type": "markdown",
   "id": "f8daa9ef",
   "metadata": {},
   "source": [
    "# Initializing Variables"
   ]
  },
  {
   "cell_type": "code",
   "execution_count": 220,
   "id": "8fa37411",
   "metadata": {},
   "outputs": [],
   "source": [
    "#\n",
    "# Option Parameters\n",
    "#\n",
    "\n",
    "'''\n",
    "S_0 = Initial Stock Price\n",
    "K = Strike\n",
    "T = Time to Maturity\n",
    "r = Risk-Free Rate\n",
    "vol = Volatility\n",
    "'''\n",
    "\n",
    "S_0 = 105 \n",
    "K = 100\n",
    "T = 1\n",
    "r = 0.05\n",
    "vol = 0.25"
   ]
  },
  {
   "cell_type": "code",
   "execution_count": 221,
   "id": "65ad1755",
   "metadata": {},
   "outputs": [],
   "source": [
    "#\n",
    "# Time Parameters\n",
    "#\n",
    "\n",
    "'''\n",
    "M = Time Steps\n",
    "dt = Length of Each Time Step\n",
    "df = discount factor\n",
    "'''\n",
    "\n",
    "M = 3\n",
    "dt = T/M\n",
    "df = math.exp(-r*dt)"
   ]
  },
  {
   "cell_type": "code",
   "execution_count": 222,
   "id": "0dd0c14e",
   "metadata": {},
   "outputs": [],
   "source": [
    "#\n",
    "# Binomial Tree Parameters\n",
    "#\n",
    "\n",
    "'''\n",
    "u = up factor\n",
    "d = down factor\n",
    "p = probability of up move\n",
    "'''\n",
    "\n",
    "u = math.exp(vol*math.sqrt(dt))\n",
    "d = 1/u\n",
    "p = (math.exp(r*dt) - d) / (u - d)"
   ]
  },
  {
   "cell_type": "markdown",
   "id": "97852952",
   "metadata": {},
   "source": [
    "# Constructing the Tree"
   ]
  },
  {
   "cell_type": "code",
   "execution_count": 229,
   "id": "a1c59a56",
   "metadata": {},
   "outputs": [],
   "source": [
    "#\n",
    "# Create an array with relevant indexing\n",
    "#\n",
    "\n",
    "mu = np.arange(M+1)\n",
    "mu = np.resize(mu, (M+1, M+1))\n",
    "md = np.transpose(mu)\n",
    "mu = np.triu(mu)\n",
    "md = np.triu(md)"
   ]
  },
  {
   "cell_type": "code",
   "execution_count": 230,
   "id": "7f260c7d",
   "metadata": {},
   "outputs": [
    {
     "data": {
      "text/plain": [
       "array([[0, 1, 2, 3],\n",
       "       [0, 1, 2, 3],\n",
       "       [0, 0, 2, 3],\n",
       "       [0, 0, 0, 3]])"
      ]
     },
     "execution_count": 230,
     "metadata": {},
     "output_type": "execute_result"
    }
   ],
   "source": [
    "mu"
   ]
  },
  {
   "cell_type": "code",
   "execution_count": 231,
   "id": "72e8b815",
   "metadata": {},
   "outputs": [
    {
     "data": {
      "text/plain": [
       "array([[0, 0, 0, 0],\n",
       "       [0, 1, 1, 1],\n",
       "       [0, 0, 2, 2],\n",
       "       [0, 0, 0, 3]])"
      ]
     },
     "execution_count": 231,
     "metadata": {},
     "output_type": "execute_result"
    }
   ],
   "source": [
    "md #Number of down movements"
   ]
  },
  {
   "cell_type": "code",
   "execution_count": 232,
   "id": "2090e4a7",
   "metadata": {},
   "outputs": [
    {
     "data": {
      "text/plain": [
       "array([[0, 1, 2, 3],\n",
       "       [0, 0, 1, 2],\n",
       "       [0, 0, 0, 1],\n",
       "       [0, 0, 0, 0]])"
      ]
     },
     "execution_count": 232,
     "metadata": {},
     "output_type": "execute_result"
    }
   ],
   "source": [
    "mu - md #Number of up movements"
   ]
  },
  {
   "cell_type": "code",
   "execution_count": null,
   "id": "f3528fd2",
   "metadata": {},
   "outputs": [],
   "source": []
  },
  {
   "cell_type": "code",
   "execution_count": 233,
   "id": "96c5837b",
   "metadata": {},
   "outputs": [
    {
     "data": {
      "text/plain": [
       "array([[105.        , 121.30377267, 140.13909775, 161.89905958],\n",
       "       [  0.        ,  90.88752771, 105.        , 121.30377267],\n",
       "       [  0.        ,   0.        ,  78.67183517,  90.88752771],\n",
       "       [  0.        ,   0.        ,   0.        ,  68.09798666]])"
      ]
     },
     "execution_count": 233,
     "metadata": {},
     "output_type": "execute_result"
    }
   ],
   "source": [
    "mu = u ** (mu - md)\n",
    "md = d ** md\n",
    "S = S_0 * mu * md \n",
    "S = np.triu(S)\n",
    "S"
   ]
  },
  {
   "cell_type": "markdown",
   "id": "b4bd533f",
   "metadata": {},
   "source": [
    "# Risk-Neutral Discounting"
   ]
  },
  {
   "cell_type": "code",
   "execution_count": 234,
   "id": "938cb4bc",
   "metadata": {},
   "outputs": [
    {
     "name": "stdout",
     "output_type": "stream",
     "text": [
      "Value of European call option is   16.293\n"
     ]
    }
   ],
   "source": [
    "pv = np.maximum(S - K, 0)\n",
    "z = 0\n",
    "for i in range(M - 1, -1, -1):\n",
    "    pv[0:M - z, i] = (p * pv[0:M - z, i + 1] + (1 - p) * pv[1:M - z + 1, i + 1]) * df\n",
    "    z += 1\n",
    "    \n",
    "print(\"Value of European call option is %8.3f\" % pv[0, 0])"
   ]
  },
  {
   "cell_type": "code",
   "execution_count": null,
   "id": "ac676489",
   "metadata": {},
   "outputs": [],
   "source": []
  },
  {
   "cell_type": "code",
   "execution_count": null,
   "id": "dbc766e4",
   "metadata": {},
   "outputs": [],
   "source": []
  },
  {
   "cell_type": "code",
   "execution_count": null,
   "id": "670d76cc",
   "metadata": {},
   "outputs": [],
   "source": []
  },
  {
   "cell_type": "code",
   "execution_count": null,
   "id": "aad0451c",
   "metadata": {},
   "outputs": [],
   "source": []
  },
  {
   "cell_type": "code",
   "execution_count": null,
   "id": "858eeec9",
   "metadata": {},
   "outputs": [],
   "source": []
  },
  {
   "cell_type": "code",
   "execution_count": null,
   "id": "75440944",
   "metadata": {},
   "outputs": [],
   "source": []
  },
  {
   "cell_type": "code",
   "execution_count": null,
   "id": "e90069ac",
   "metadata": {},
   "outputs": [],
   "source": []
  }
 ],
 "metadata": {
  "kernelspec": {
   "display_name": "Python 3 (ipykernel)",
   "language": "python",
   "name": "python3"
  },
  "language_info": {
   "codemirror_mode": {
    "name": "ipython",
    "version": 3
   },
   "file_extension": ".py",
   "mimetype": "text/x-python",
   "name": "python",
   "nbconvert_exporter": "python",
   "pygments_lexer": "ipython3",
   "version": "3.9.13"
  }
 },
 "nbformat": 4,
 "nbformat_minor": 5
}
